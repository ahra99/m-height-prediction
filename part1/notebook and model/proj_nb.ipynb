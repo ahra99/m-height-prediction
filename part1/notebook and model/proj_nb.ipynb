{
 "cells": [
  {
   "cell_type": "markdown",
   "id": "c47337b6",
   "metadata": {},
   "source": [
    "# In this notebook, the first part is for LP estimations, the second part is for Deep Neural Networks"
   ]
  },
  {
   "cell_type": "markdown",
   "id": "544e0bca",
   "metadata": {},
   "source": [
    "# Code for creating m-height \n",
    "### NOTE: the following code uses the LP to find m-height"
   ]
  },
  {
   "cell_type": "code",
   "execution_count": 27,
   "id": "f303783a",
   "metadata": {},
   "outputs": [],
   "source": [
    "import torch\n",
    "import itertools\n",
    "import numpy as np\n",
    "from scipy.optimize import linprog\n",
    "\n",
    "\n",
    "\n",
    "\n",
    "\n",
    "def compute_m_height(G, m):\n",
    "    k, n = G.shape\n",
    "    print('n ',n)\n",
    "    assert m <= n - k, \"m must be at most n - k\"\n",
    "    \n",
    "    # Ensure G is systematic\n",
    "    I_k = np.eye(k)\n",
    "    assert np.allclose(G[:, :k], I_k), \"G must be systematic (first k columns should form an identity matrix)\"\n",
    "    \n",
    "    indices = list(range(n)) #### [n> --> for any positive integer n\n",
    "    Psi = list(itertools.product([-1, 1], repeat=m))  # Set of all binary vectors of length m\n",
    "    \n",
    "    best_height = -np.inf\n",
    "    s = 0\n",
    "    for a, b in itertools.permutations(indices, 2):#permutations(indices, 2):\n",
    "        X_candidates = [set(comb) for comb in itertools.combinations(set(indices) - {a, b}, m - 1)] # combinations\n",
    "        # print('a ',a)\n",
    "        # print('b ', b)\n",
    "        for X in X_candidates:\n",
    "            Y = set(indices) - X - {a, b}\n",
    "            # print('Y ', Y)\n",
    "            # print('X ', X)\n",
    "            for psi in Psi:\n",
    "                tau = [a] + sorted(X) + [b] + sorted(Y)\n",
    "                # print('tau ', tau)\n",
    "                tau_inv = {xj: j for j, xj in enumerate(tau)}  # Calculate tau^{-1}\n",
    "                # for i in range(k):\n",
    "                #     print(psi[i])\n",
    "                c = np.array([psi[0] * G[i, a] for i in range(k)])  # Update objective function\n",
    "\n",
    "                A = []\n",
    "                b_ineq = []\n",
    "\n",
    "                for j in X:\n",
    "                    # row = [(psi[list(X).index(j)] * G[i, tau_inv[j]] - psi[0] * G[i, a]) for i in range(k)]\n",
    "                    row = [(psi[tau_inv[j]] * G[i, j] - psi[0] * G[i, a]) for i in range(k)]\n",
    "                    # row = [( - psi[tau_inv[j]] * G[i, j] + psi[0] * G[i, a]) for i in range(k)]\n",
    "                    A.append(row)\n",
    "                    b_ineq.append(0)\n",
    "\n",
    "                    # row_neg = [-psi[list(X).index(j)] * G[i, tau_inv[j]] for i in range(k)]\n",
    "                    row_neg = [-psi[tau_inv[j]] * G[i, j] for i in range(k)]\n",
    "                    # row_neg = [psi[tau_inv[j]] * G[i, j] for i in range(k)]\n",
    "                    A.append(row_neg)\n",
    "                    b_ineq.append(-1)\n",
    "                    # b_ineq.append(1)\n",
    "\n",
    "                for j in Y:\n",
    "                    # A.append([G[i, tau_inv[j]] for i in range(k)])  # Correctly index using tau_inv\n",
    "                    A.append([G[i, j] for i in range(k)])  # Correctly index using tau_inv\n",
    "                    b_ineq.append(1)\n",
    "                    # b_ineq.append(-1)\n",
    "\n",
    "                    A.append([-G[i, j] for i in range(k)])\n",
    "                    b_ineq.append(1)\n",
    "                    # b_ineq.append(-1)\n",
    "\n",
    "                A_eq = [[G[i, b] for i in range(k)]]\n",
    "                b_eq = [1]\n",
    "                # b_eq = [-1]\n",
    "\n",
    "                res = linprog(-c, A_ub=A, b_ub=b_ineq, A_eq=A_eq, b_eq=b_eq, method='highs')\n",
    "\n",
    "                s += 1\n",
    "\n",
    "                if res.success:\n",
    "                    best_height = max(best_height, -res.fun)\n",
    "    # print(s)\n",
    "    return best_height if best_height != -np.inf else None\n",
    "\n"
   ]
  },
  {
   "cell_type": "code",
   "execution_count": 28,
   "id": "732441d3",
   "metadata": {},
   "outputs": [
    {
     "name": "stdout",
     "output_type": "stream",
     "text": [
      "n  5\n",
      "m-height: 1.9242383477894285\n"
     ]
    }
   ],
   "source": [
    "# # Example Usage:\n",
    "G = np.array([[1, 0, 0.4759809, 0.993823, 0.819425], \n",
    "              [0, 1, -0.8960798 , -0.7442706, 0.3345122]])  # Systematic generator matrix\n",
    "\n",
    "# G = np.array([[1, 0, 0.534, 0.583, -0.709, -0.053, 0.543, 0.927], \n",
    "#               [0, 1, 0.611 , -1.211, 0.233, -0.784, -0.659, -0.947]])  # Systematic generator matrix\n",
    "m = 2\n",
    "print(\"m-height:\", compute_m_height(G, m))"
   ]
  },
  {
   "cell_type": "markdown",
   "id": "07714e8e",
   "metadata": {},
   "source": [
    "# Code for DNNs"
   ]
  },
  {
   "cell_type": "markdown",
   "id": "eae3de39",
   "metadata": {},
   "source": [
    "# Required packages for the model"
   ]
  },
  {
   "cell_type": "code",
   "execution_count": null,
   "id": "b2b233c9",
   "metadata": {},
   "outputs": [],
   "source": [
    "import torch\n",
    "import numpy as np\n",
    "import joblib\n",
    "\n",
    "from torch.utils.data import DataLoader, random_split, Dataset\n",
    "import torch.nn as nn\n",
    "import torch.nn.functional as F\n",
    "from torch.distributions import Normal\n",
    "import torch.optim as optim\n",
    "\n",
    "from sklearn.model_selection import train_test_split\n",
    "import matplotlib.pyplot as plt\n",
    "\n",
    "import math\n",
    "from tqdm import tqdm\n",
    "import time"
   ]
  },
  {
   "cell_type": "markdown",
   "id": "250bc125",
   "metadata": {},
   "source": [
    "# loading the dataset $\\rightarrow$ this was used for training"
   ]
  },
  {
   "cell_type": "code",
   "execution_count": null,
   "id": "b57e0047",
   "metadata": {},
   "outputs": [],
   "source": [
    "path = \"D:\\\\TAMU\\\\courses\\\\spring 2025\\\\deep learning\\\\project\\\\New folder\\\\\"\n",
    "s_inds = np.load(path+'inds_small_dset.npy')\n",
    "df = joblib.load(path + \"results_dataframe.pkl\")\n"
   ]
  },
  {
   "cell_type": "markdown",
   "id": "3b032062",
   "metadata": {},
   "source": [
    "# Class for creating the dataset for dataloader + function for preprocessing the data"
   ]
  },
  {
   "cell_type": "code",
   "execution_count": null,
   "id": "7743926b",
   "metadata": {},
   "outputs": [],
   "source": [
    "class CustomDataset(Dataset):\n",
    "    def __init__(self, data, targets):\n",
    "        self.data = data\n",
    "        self.targets = targets\n",
    "        \n",
    "    def __len__(self):\n",
    "        return len(self.data)\n",
    "    \n",
    "    def __getitem__(self, idx):\n",
    "        return self.data[idx], self.targets[idx]\n",
    "\n",
    "def pre_process_data(gen_mats, nfeat = 1): # matrix of shape [n_samples, n_dims]\n",
    "    struct_mat = []\n",
    "    m = nn.AdaptiveAvgPool1d(nfeat)\n",
    "    for item in gen_mats:\n",
    "        if type(item) == np.ndarray:\n",
    "            item = torch.tensor(item.astype(float))\n",
    "        # if type(item) == torch.Tensor:\n",
    "        #     continue\n",
    "        item = item.unsqueeze(0)\n",
    "        struct_mat.append(m(item))\n",
    "        \n",
    "    return torch.cat((struct_mat))"
   ]
  },
  {
   "cell_type": "markdown",
   "id": "969cea88",
   "metadata": {},
   "source": [
    "# creating the modified datset "
   ]
  },
  {
   "cell_type": "code",
   "execution_count": null,
   "id": "d1ea6ab9",
   "metadata": {},
   "outputs": [],
   "source": [
    "print('Getting targets, integers (n,k,m), and the modified matrices (all matrices will have the same number of features)')\n",
    "target_vals = torch.tensor(df['result'].values)\n",
    "nkm_vals = torch.tensor(df[['n','k','m']].values)\n",
    "gmat_vals = pre_process_data(df['P'], nfeat=17)\n",
    "\n",
    "print('Creating the modified features....')\n",
    "modif_data = torch.cat([gmat_vals, nkm_vals], axis = 1)\n"
   ]
  },
  {
   "cell_type": "markdown",
   "id": "e723acf2",
   "metadata": {},
   "source": [
    "# saving the modified dataset (to avoid loading the big dataset again)"
   ]
  },
  {
   "cell_type": "code",
   "execution_count": null,
   "id": "2403d5e1",
   "metadata": {},
   "outputs": [],
   "source": [
    "torch.save(modif_data, 'modif_data_all.pt')\n",
    "torch.save(target_vals, 'target_vals_all.pt')"
   ]
  },
  {
   "cell_type": "markdown",
   "id": "c2c26938",
   "metadata": {},
   "source": [
    "# Getting test datset indices (denoted as the small dataset)"
   ]
  },
  {
   "cell_type": "code",
   "execution_count": null,
   "id": "cdce2b91",
   "metadata": {},
   "outputs": [],
   "source": [
    "inds_dict = {}\n",
    "s = 0\n",
    "for m in df['m'].unique():\n",
    "    for n in df['n'].unique():\n",
    "        for k in df['k'].unique():\n",
    "            l = len(df[(df['m']==m) & (df['n']==n) & (df['k'] == k)])\n",
    "            if l != 0:\n",
    "                key = str(m)+'-'+str(n)+'-'+str(k)\n",
    "                inds_dict[key] = df[(df['m']==m) & (df['n']==n) & (df['k'] == k)].index\n",
    "                print('m-n-k: ', str(m)+'-'+str(n)+'-'+str(k))\n",
    "                s+=1\n",
    "\n",
    "small_dset_per_state = 50000\n",
    "inds_small_dset = []\n",
    "for item in inds_dict:\n",
    "    sampled_inds = np.random.choice(inds_dict[item], size=small_dset_per_state, replace=False)\n",
    "    inds_small_dset.append(sampled_inds)\n",
    "\n",
    "inds_small_dset = np.array(inds_small_dset).reshape(-1)\n",
    "\n",
    "\n",
    "path = \"D:\\\\TAMU\\\\courses\\\\spring 2025\\\\deep learning\\\\project\\\\New folder\"\n",
    "np.save(path + 'inds_small_dset', inds_small_dset)"
   ]
  },
  {
   "cell_type": "markdown",
   "id": "e54deb03",
   "metadata": {},
   "source": [
    "# loading the modified dataset "
   ]
  },
  {
   "cell_type": "code",
   "execution_count": null,
   "id": "98dc4acf",
   "metadata": {},
   "outputs": [],
   "source": [
    "target_vals = torch.load('target_vals_all.pt')\n",
    "modif_data = torch.load('modif_data_all.pt')\n",
    "\n",
    "\n",
    "s_inds = np.load('inds_small_dset.npy')\n",
    "all_inds = range(len(target_vals))\n",
    "tr_val_inds = np.delete(all_inds, s_inds)\n",
    "ts_inds = s_inds\n",
    "\n",
    "print(f'train-val dataset size: {len(tr_val_inds)}')\n",
    "print(f'test dataset size: {len(ts_inds)}')"
   ]
  },
  {
   "cell_type": "markdown",
   "id": "c38f81a6",
   "metadata": {},
   "source": [
    "# creating train/validation/test dataset"
   ]
  },
  {
   "cell_type": "code",
   "execution_count": null,
   "id": "e86f240e",
   "metadata": {},
   "outputs": [],
   "source": [
    "train_data, val_data, train_targets, val_targets = train_test_split(modif_data[tr_val_inds], target_vals[tr_val_inds], test_size=0.2, random_state=42)\n",
    "test_data, test_targets = modif_data[ts_inds], target_vals[ts_inds]\n",
    "\n",
    "inds = np.where(train_targets < 0.5*1e9) # removing very large values ---> can be outliers\n",
    "train_data, train_targets = train_data[inds], train_targets[inds]"
   ]
  },
  {
   "cell_type": "markdown",
   "id": "77eb65a4",
   "metadata": {},
   "source": [
    "# models"
   ]
  },
  {
   "cell_type": "markdown",
   "id": "7fd3f4b5",
   "metadata": {},
   "source": [
    "An explanation for the model:\n",
    "Generally, the model consists of 3 components: \n",
    "- An encoder \n",
    "- - encoder itself contains 2 calls to the simple encoder which maps modified matrices (17 features in this code) and the \\[n,m,k\\], each to a 10 dimensional feature vector (hence, after concatanation, the input to the first conv1d layer is 20 dimensional)\n",
    "- - encoder also utilizes  3 conv1d layers with max pooling\n",
    "- A Normalizing flow module (where I used planar flows for the trained model with 10 flows)\n",
    "- A decoder: similar to the encoder, without the use of simple encoders \n",
    "\n",
    "### NOTE: the complete model is provided in VAEWithFlow class \n",
    "\n",
    "### NOTE: the model predicts log2($\\cdot$)"
   ]
  },
  {
   "cell_type": "code",
   "execution_count": null,
   "id": "48689444",
   "metadata": {},
   "outputs": [],
   "source": [
    "class simple_encoder(nn.Module):\n",
    "    def __init__(self, input_dim, output_dim):\n",
    "        super().__init__()\n",
    "        \n",
    "        self.fc1 = nn.Linear(input_dim, 2)\n",
    "        self.fc2 = nn.Linear(2, output_dim)\n",
    "        self.relu = nn.ReLU()\n",
    "    \n",
    "    def forward(self, z):\n",
    "        o = self.fc1(z)\n",
    "        o = self.relu(o)\n",
    "        o = self.fc2(o)\n",
    "        return o\n",
    "    \n",
    "\n",
    "\n",
    "# Planar Flow\n",
    "class PlanarFlow(nn.Module):\n",
    "    def __init__(self, dim):\n",
    "        super().__init__()\n",
    "        self.w = nn.Parameter(torch.randn(1, dim))\n",
    "        self.u = nn.Parameter(torch.randn(1, dim))\n",
    "        self.b = nn.Parameter(torch.randn(1))\n",
    "    \n",
    "    def forward(self, z):\n",
    "        linear = torch.matmul(z, self.w.T) + self.b\n",
    "        activation = torch.tanh(linear)\n",
    "        psi = (1 - activation ** 2) * self.w\n",
    "        det_jacobian = torch.abs(1 + torch.matmul(psi, self.u.T))\n",
    "        log_det = torch.log(det_jacobian + 1e-6)\n",
    "        z_next = z + self.u * activation\n",
    "        return z_next, log_det\n",
    "\n",
    "# Radial Flow\n",
    "class RadialFlow(nn.Module):\n",
    "    def __init__(self, dim):\n",
    "        super().__init__()\n",
    "        self.z0 = nn.Parameter(torch.randn(1, dim))\n",
    "        self.alpha = nn.Parameter(torch.randn(1))\n",
    "        self.beta = nn.Parameter(torch.randn(1))\n",
    "        self.dim = dim\n",
    "    \n",
    "    def forward(self, z):\n",
    "        r = torch.norm(z - self.z0, dim=1, keepdim=True)\n",
    "        h = 1 / (1 + r)\n",
    "        beta_h = self.beta * h\n",
    "        z_next = z + beta_h * (z - self.z0)\n",
    "        log_det = (self.dim - 1) * torch.log(1 + beta_h) + torch.log(1 + beta_h + self.beta * h**2)\n",
    "        return z_next, log_det\n",
    "\n",
    "# Normalizing Flow Model\n",
    "class NormalizingFlow(nn.Module):\n",
    "    def __init__(self, dim, num_flows=2, flow_type='planar'):\n",
    "        super().__init__()\n",
    "        self.flows = nn.ModuleList([PlanarFlow(dim) if flow_type == 'planar' else RadialFlow(dim) for _ in range(num_flows)])\n",
    "    \n",
    "    def forward(self, z0):\n",
    "        log_det_sum = 0\n",
    "        z = z0\n",
    "        for flow in self.flows:\n",
    "            z, log_det = flow(z)\n",
    "            log_det_sum += log_det\n",
    "        return z, log_det_sum\n",
    "\n",
    "# Encoder\n",
    "class Encoder(nn.Module):\n",
    "    def __init__(self, input_dim, latent_dim):\n",
    "        super().__init__()\n",
    "        \n",
    "        self.emnk = simple_encoder(input_dim = 3, output_dim = 10)\n",
    "        self.eg = simple_encoder(input_dim = input_dim - 3, output_dim = 10)\n",
    "    \n",
    "        self.conv1 = nn.Conv1d(in_channels = 1, out_channels = 16, kernel_size = 2, padding = 1)\n",
    "        self.pool1 = nn.MaxPool1d(kernel_size = 2)\n",
    "        self.conv2 = nn.Conv1d(in_channels = 16, out_channels = 64, kernel_size = 2, padding = 1) # was 32 previously - was 3 previously\n",
    "        self.pool2 = nn.MaxPool1d(kernel_size = 2)\n",
    "        self.conv3 = nn.Conv1d(in_channels = 64, out_channels = 256, kernel_size = 2, padding = 1) # was 128 previously\n",
    "        self.pool3 = nn.MaxPool1d(kernel_size = 2)\n",
    "        \n",
    "        self.flatten = nn.Flatten()\n",
    "        \n",
    "        \n",
    "#         self.fc1 = nn.Linear(input_dim, 64)\n",
    "#         self.fc1 = nn.Linear(32*5, 64)\n",
    "        self.fc1 = nn.Linear(256*3, 64) # 128 * 2 previously\n",
    "        self.fc2 = nn.Linear(64, 64)\n",
    "        self.mu = nn.Linear(64, latent_dim)\n",
    "        self.log_var = nn.Linear(64, latent_dim)\n",
    "        self.dropout = nn.Dropout(p=0.3)\n",
    "        self.relu = nn.ReLU()\n",
    "        \n",
    "    def forward(self, x):\n",
    "        \n",
    "        f1 = self.emnk(x[:,-3:])\n",
    "        f2 = self.eg(x[:,:-3])\n",
    "        f = torch.cat([f1,f2], axis = 1)\n",
    "        \n",
    "        f = f.unsqueeze(1)\n",
    "        \n",
    "        h = self.conv1(f)\n",
    "        h = self.pool1(h)\n",
    "        h = self.conv2(h)\n",
    "        h = self.pool2(h)\n",
    "        h = self.conv3(h)\n",
    "        h = self.pool3(h)\n",
    "        h = self.flatten(h)\n",
    "#         print(h.shape)\n",
    "        \n",
    "        h = self.fc1(h)\n",
    "        h = self.relu(h)\n",
    "        h = self.dropout(h)\n",
    "        h = self.fc2(h)\n",
    "        h = self.relu(h)\n",
    "        h = self.dropout(h)\n",
    "\n",
    "\n",
    "        mu = self.mu(h)\n",
    "        log_var = self.log_var(h)\n",
    "        std = torch.exp(0.5 * log_var)\n",
    "        eps = torch.randn_like(std)\n",
    "        z0 = mu + eps * std\n",
    "        return z0, mu, log_var\n",
    "\n",
    "# Decoder\n",
    "class Decoder(nn.Module):\n",
    "    def __init__(self, latent_dim, output_dim):\n",
    "        super().__init__()\n",
    "        self.fc1 = nn.Linear(latent_dim, 64)\n",
    "        self.fc2 = nn.Linear(64, 64)\n",
    "        self.relu = nn.ReLU()\n",
    "        self.dropout = nn.Dropout(0.3)\n",
    "\n",
    "        self.out = nn.Linear(64, output_dim)\n",
    "    \n",
    "    def forward(self, z):\n",
    "        h = self.fc1(z)\n",
    "        h = self.relu(h)\n",
    "        h = self.dropout(h)\n",
    "        h = self.fc2(h)\n",
    "        h = self.relu(h)\n",
    "        h = self.dropout(h) ### the following layer was not previously there....\n",
    "        h = self.fc2(h)\n",
    "        h = self.relu(h)\n",
    "        h = self.dropout(h)\n",
    "\n",
    "        o = self.out(h)\n",
    "        return self.relu(o) # o if output is normalized, so it can be positive and # relu(o) output must be positive \n",
    "\n",
    "# Full VAE + Flow Model\n",
    "class VAEWithFlow(nn.Module):\n",
    "    def __init__(self, input_dim, latent_dim, output_dim, num_flows=2, flow_type='planar'):\n",
    "        super().__init__()\n",
    "        self.encoder = Encoder(input_dim, latent_dim)\n",
    "        self.flow = NormalizingFlow(latent_dim, num_flows, flow_type)\n",
    "        self.decoder = Decoder(latent_dim, output_dim)\n",
    "        self.latent_dim = latent_dim\n",
    "    \n",
    "    def forward(self, x):\n",
    "        z0, mu, log_var = self.encoder(x)\n",
    "        z_k, log_det = self.flow(z0)\n",
    "        x_recon = self.decoder(z_k)\n",
    "        return x_recon, z_k, mu, log_var, log_det\n",
    "    \n",
    "    def sample(self, num_samples=1):\n",
    "        z0 = torch.randn(num_samples, self.latent_dim)\n",
    "        z_k, _ = self.flow(z0)\n",
    "        return self.decoder(z_k)\n",
    "\n",
    "\n"
   ]
  },
  {
   "cell_type": "markdown",
   "id": "5773844a",
   "metadata": {},
   "source": [
    "# Creating data loaders \n",
    "### NOTE: I did not get good performance with normalization, so I just restricted the model to predict the log2(m=height)\n",
    "### NOTE: Targets in train loader already are log2(m-height), however for validation and test dataset, I used the m-heights themselves"
   ]
  },
  {
   "cell_type": "code",
   "execution_count": null,
   "id": "4c2f159b",
   "metadata": {},
   "outputs": [],
   "source": [
    "\n",
    "train_dataset = CustomDataset(torch.tensor(train_data), torch.log2(torch.tensor(train_targets)))\n",
    "valid_dataset = CustomDataset(torch.tensor(val_data), torch.tensor(val_targets))\n",
    "test_dataset = CustomDataset(torch.tensor(test_data), torch.tensor(test_targets))\n",
    "\n",
    "\n",
    "\n",
    "\n",
    "batch_size = 1024 * 1 #256 * 4\n",
    "num_workers = 4\n",
    "train_loader = DataLoader(train_dataset, batch_size=batch_size, shuffle=True)#, num_workers = num_workers)  # Shuffle only for training data\n",
    "valid_loader = DataLoader(valid_dataset, batch_size=batch_size, shuffle=False)#, num_workers = num_workers)\n",
    "test_loader = DataLoader(test_dataset, batch_size=batch_size, shuffle=False)#, num_workers = num_workers)\n"
   ]
  },
  {
   "cell_type": "markdown",
   "id": "e8925162",
   "metadata": {},
   "source": [
    "# Model specifications\n"
   ]
  },
  {
   "cell_type": "code",
   "execution_count": null,
   "id": "d232719a",
   "metadata": {},
   "outputs": [],
   "source": [
    "\n",
    "input_dim = 20#13\n",
    "latent_dim = 2#4#5\n",
    "output_dim = 1\n",
    "num_flows = 10#10#4\n",
    "num_epochs = 100\n",
    "flow_type = 'planar'  # Choose 'planar' or 'radial'\n",
    "\n",
    "device = 'cuda' if torch.cuda.is_available() else 'cpu'\n",
    "\n",
    "# scaler = GradScaler()\n",
    "\n",
    "model = VAEWithFlow(input_dim, latent_dim, output_dim, num_flows, flow_type).to(torch.float64).to(device)\n",
    "optimizer = torch.optim.AdamW(model.parameters(), lr=1e-3)\n",
    "scheduler = optim.lr_scheduler.ExponentialLR(optimizer, gamma=0.99)\n",
    "# scheduler = optim.lr_scheduler.ReduceLROnPlateau(optimizer, mode='min', factor=0.5, patience=2, threshold=1e-5)\n",
    "\n",
    "model"
   ]
  },
  {
   "cell_type": "markdown",
   "id": "b5920597",
   "metadata": {},
   "source": [
    "# training "
   ]
  },
  {
   "cell_type": "code",
   "execution_count": null,
   "id": "b27acaab",
   "metadata": {},
   "outputs": [],
   "source": [
    "bperf = torch.inf\n",
    "p_var = torch.tensor(0.2)\n",
    "model.train()\n",
    "eps = 1e-5\n",
    "scale_kl = 1e-4\n",
    "tr_loss_track, val_loss_track = [],[]\n",
    "tr_loss_all, val_loss_all, tr_kl_all, mse_all= [],[],[],[]\n",
    "for epoch in range(num_epochs):\n",
    "    total_loss = 0\n",
    "    t_start = time.time()\n",
    "    \n",
    "    step = 0\n",
    "    for x,y in train_loader:\n",
    "        optimizer.zero_grad()\n",
    "        x,y = x.to(device), y.to(device) # ---> log2 y (in train loader we have log2 y)\n",
    "        y_hat, z_k, mu, log_var, log_det = model(x) # ---> log2 y hat (model is forced to predict log2 y)\n",
    "\n",
    "\n",
    "        ### although it was enought to find only the mse of y and y_hat (since both of them are log2(.)), \n",
    "        ### but the following loss performed better empirically (I might be wrong however)\n",
    "        loss = torch.log2(( (y+eps)/(y_hat.squeeze(-1)+eps) )) ** 2 \n",
    "        loss = loss.mean()\n",
    "        \n",
    "        ### this mse is just for checking the model's performance --> it was not used in updating the model\n",
    "        mse = F.mse_loss( y, y_hat.squeeze(-1))\n",
    "\n",
    "        ### scaling the loss for putting more weight on the accuracy of the model \n",
    "        new_loss = 10 * loss \n",
    "\n",
    "        ### kl divergence loss for Normalizing Flow part which is optimized by elbo (similar loss as VAE)\n",
    "        ### kl divergence is scaled which is a common practice, and helps the model to converge faster\n",
    "        kl_div = ((mu-0)**2 + p_var**2)/(2*torch.exp(log_var)) + log_var - math.log(p_var) - 0.5\n",
    "        elbo_loss = new_loss + scale_kl * kl_div.mean() #+ mse\n",
    "        elbo_loss.backward()\n",
    "                \n",
    "\n",
    "        optimizer.step()        \n",
    "        total_loss += loss.item()\n",
    "\n",
    "        ### keeping track of different losses\n",
    "        tr_kl_all.append(kl_div.mean().item())\n",
    "        tr_loss_all.append(loss.item())\n",
    "        mse_all.append(mse.item())\n",
    "        \n",
    "        step += 1\n",
    "        print(f'step {step}/{len(train_loader)}, loss: {loss.item()}, mse_all: {mse_all[-1]}', end = '\\r')\n",
    "\n",
    "    tr_loss_track.append(total_loss/len(train_loader))\n",
    "    # print(f'Epoch: {epoch}, Train error: {tr_loss_track[-1]}')\n",
    "\n",
    "    ### Validating the model \n",
    "    model.eval()\n",
    "    total_val_loss = 0\n",
    "    with torch.no_grad():\n",
    "        for x_val, y_val in valid_loader:\n",
    "            x_val,y_val = x_val.to(device), y_val.to(device)\n",
    "            y_hat, z_k, mu, log_var, log_det = model(x_val) # ---> log y hat\n",
    "\n",
    "            y_val = torch.log2(y_val) # ---> since the model predicts the log2 y , and the validation y is not on log \n",
    "            \n",
    "            ### again, for consistency, similar loss as in training is utilized \n",
    "            val_loss = F.mse_loss( torch.log2(((y_val + eps))), torch.log2((y_hat.squeeze(-1) + eps)))\n",
    "            total_val_loss += val_loss.item()\n",
    "            val_loss_all.append(val_loss.item())\n",
    "        \n",
    "    \n",
    "    total_val_loss /= len(valid_loader)\n",
    "    scheduler.step()\n",
    "\n",
    "    val_loss_track.append(total_val_loss)\n",
    "    \n",
    "    ### saving the loss track\n",
    "    np.save('vaenf_kl_loss_all.npy', np.array(tr_kl_all))\n",
    "    np.save('vaenf_val_loss_track.npy', np.array(val_loss_track))\n",
    "    np.save('vaenf_tr_loss_track.npy', np.array(tr_loss_track))\n",
    "    \n",
    "    if total_val_loss < bperf: \n",
    "        bperf = total_val_loss\n",
    "        torch.save(model.state_dict(), 'vaenf_best_perf_model.pth')\n",
    "    e_time = time.time()\n",
    "    if epoch%1 == 0:\n",
    "            print(f\"Epoch {epoch+1}, train Loss: {total_loss / len(train_loader)}, valid loss: {total_val_loss}, lr: {scheduler.get_last_lr()}, time: {e_time-t_start}\")\n",
    "\n",
    "\n"
   ]
  },
  {
   "cell_type": "markdown",
   "id": "5fd16925",
   "metadata": {},
   "source": [
    "# Loading the best saved model"
   ]
  },
  {
   "cell_type": "code",
   "execution_count": null,
   "id": "1c2af12b",
   "metadata": {},
   "outputs": [
    {
     "name": "stderr",
     "output_type": "stream",
     "text": [
      "/var/folders/tm/y775skms6473dvdtkt3t59n80000gn/T/ipykernel_8670/2518314598.py:1: FutureWarning: You are using `torch.load` with `weights_only=False` (the current default value), which uses the default pickle module implicitly. It is possible to construct malicious pickle data which will execute arbitrary code during unpickling (See https://github.com/pytorch/pytorch/blob/main/SECURITY.md#untrusted-models for more details). In a future release, the default value for `weights_only` will be flipped to `True`. This limits the functions that could be executed during unpickling. Arbitrary objects will no longer be allowed to be loaded via this mode unless they are explicitly allowlisted by the user via `torch.serialization.add_safe_globals`. We recommend you start setting `weights_only=True` for any use case where you don't have full control of the loaded file. Please open an issue on GitHub for any issues related to this experimental feature.\n",
      "  checkpoint = torch.load('vaenf_best_perf_model.pth', map_location=torch.device('cpu'))\n"
     ]
    },
    {
     "data": {
      "text/plain": [
       "<All keys matched successfully>"
      ]
     },
     "execution_count": 21,
     "metadata": {},
     "output_type": "execute_result"
    }
   ],
   "source": [
    "checkpoint = torch.load('vaenf_best_perf_model.pth', map_location=torch.device(device)) \n",
    "model.load_state_dict(checkpoint)"
   ]
  },
  {
   "cell_type": "markdown",
   "id": "198370fb",
   "metadata": {},
   "source": [
    "# Plotting the performance on training loss and validation\n",
    "\n",
    "### IMPORTANT NOTE: since I saved the loss from an alternative loss function, i.e., log2( y/yhat )**2 in which both y and yhat are log2($\\cdot$), even though I am plotting the $2^{val/train-loss}$, it is a bit different from $($ log2(ground-truth)-log2(prediction)$)^2$. However, as it can be seen from the validation performance, the model did not overfit."
   ]
  },
  {
   "cell_type": "code",
   "execution_count": 22,
   "id": "6c64343f",
   "metadata": {},
   "outputs": [
    {
     "data": {
      "text/plain": [
       "<matplotlib.legend.Legend at 0x36f7f9bd0>"
      ]
     },
     "execution_count": 22,
     "metadata": {},
     "output_type": "execute_result"
    },
    {
     "data": {
      "image/png": "[encoded data removed]",
      "text/plain": [
       "<Figure size 640x480 with 1 Axes>"
      ]
     },
     "metadata": {},
     "output_type": "display_data"
    },
    {
     "data": {
      "image/png": "[encoded data removed]",
      "text/plain": [
       "<Figure size 640x480 with 1 Axes>"
      ]
     },
     "metadata": {},
     "output_type": "display_data"
    }
   ],
   "source": [
    "val_track = np.load('vaenf_val_loss_track.npy')\n",
    "tr_track = np.load('vaenf_tr_loss_track.npy')\n",
    "kl_track = np.load('vaenf_kl_loss_all.npy')\n",
    "# val_track = np.array(val_loss_track)# * len(valid_loader)\n",
    "# tr_track = np.array(tr_loss_track)\n",
    "\n",
    "plt.plot(kl_track, label = 'kl loss', color = 'orange')\n",
    "plt.yscale('log')\n",
    "plt.legend()\n",
    "\n",
    "\n",
    "plt.figure()\n",
    "plt.plot(range(1,len(val_track)+1),2**val_track[:], label = 'valid loss', color = 'red')\n",
    "plt.plot(range(1,len(val_track)+1),2**tr_track[:], label = 'train loss', color = 'blue')\n",
    "# plt.plot(kl_track, label = 'kl loss', color = 'orange')\n",
    "plt.yscale('log')\n",
    "# plt.xscale('log')\n",
    "plt.legend()\n"
   ]
  },
  {
   "cell_type": "markdown",
   "id": "0d1c2747",
   "metadata": {},
   "source": [
    "# Testing the model on the test dataset\n",
    "### in the following code, since the model is stochastic, I run the model 3 times and report the average error with its standard deviation\n",
    "### NOTE: in the following code, I am reporting the MSE(log2(ground-truth) , log2(predictions)). "
   ]
  },
  {
   "cell_type": "code",
   "execution_count": 23,
   "id": "9752d347",
   "metadata": {},
   "outputs": [
    {
     "name": "stdout",
     "output_type": "stream",
     "text": [
      "Error mean: 1.368897588191137 \n",
      "Error std: 0.0007343444610409931\n"
     ]
    }
   ],
   "source": [
    "eps = 1e-5\n",
    "model.eval()\n",
    "total_test_loss = 0\n",
    "with torch.no_grad():\n",
    "    sampled_err = []\n",
    "    for ns in range(3):\n",
    "        xs = []\n",
    "        y_preds = []    \n",
    "        ys = []\n",
    "        for x_test, y_test in test_loader:\n",
    "            x_test,y_test = x_test.to(device), y_test.to(device)\n",
    "            y_hat, z,m,lv,ld = model(x_test) # ---> log2 y\n",
    "            y_preds.append(y_hat.squeeze(1))\n",
    "            ys.append(torch.log2(y_test))\n",
    "            xs.append(x_test[:,-1])\n",
    "            test_loss = F.mse_loss( torch.log2((y_test + eps)), (y_hat.squeeze(-1)))\n",
    "            # test_loss = F.mse_loss( torch.log2((torch.log2(y_test) + eps)), torch.log2(y_hat.squeeze(-1) + eps))\n",
    "            total_test_loss += test_loss.item()\n",
    "\n",
    "        total_test_loss /= len(test_loader)\n",
    "\n",
    "        sampled_err.append(total_test_loss)\n",
    "sampled_err = np.array(sampled_err)\n",
    "print(f'Error mean: {sampled_err.mean()} \\nError std: {sampled_err.std()}')"
   ]
  },
  {
   "cell_type": "markdown",
   "id": "730d7d37",
   "metadata": {},
   "source": [
    "# plotting the test data predictions VS the ground truth\n",
    "### NOTE: as it can be seen in the following, the spread of predictions are off wrt the ground truth. This observation raise the question if we can use a post-training method to map the predictions to a wider region or not? the other question is that how can we encourage a wider prediction range in our model. \n",
    "\n",
    "### NOTE: the other problem might be due the imbalanced dataset (higher values might be seen much less frequent). In that sense, we might consider some penalty for larger values / errors"
   ]
  },
  {
   "cell_type": "code",
   "execution_count": 18,
   "id": "fa341eaf",
   "metadata": {},
   "outputs": [
    {
     "data": {
      "text/plain": [
       "<matplotlib.legend.Legend at 0x370bc3110>"
      ]
     },
     "execution_count": 18,
     "metadata": {},
     "output_type": "execute_result"
    },
    {
     "data": {
      "image/png": "[encoded data removed]",
      "text/plain": [
       "<Figure size 640x480 with 1 Axes>"
      ]
     },
     "metadata": {},
     "output_type": "display_data"
    },
    {
     "data": {
      "image/png": "[encoded data removed]",
      "text/plain": [
       "<Figure size 640x480 with 1 Axes>"
      ]
     },
     "metadata": {},
     "output_type": "display_data"
    }
   ],
   "source": [
    "ypreds_test = torch.cat(y_preds,dim=0).detach().cpu()\n",
    "ygt = torch.cat(ys).detach().cpu()\n",
    "x = torch.cat(xs).detach().cpu()\n",
    "\n",
    "plt.plot(x, ygt, '.', label = 'ground truth')\n",
    "plt.legend()\n",
    "plt.xlabel('m')\n",
    "plt.figure()\n",
    "plt.plot(x, ypreds_test, '.', label = 'predictions')\n",
    "plt.xlabel('m')\n",
    "plt.legend()"
   ]
  },
  {
   "cell_type": "markdown",
   "id": "d73a306a",
   "metadata": {},
   "source": [
    "# test error for each m"
   ]
  },
  {
   "cell_type": "code",
   "execution_count": 20,
   "id": "fb33692a",
   "metadata": {},
   "outputs": [
    {
     "name": "stdout",
     "output_type": "stream",
     "text": [
      "test loss for m=2:  tensor(0.3903, dtype=torch.float64)\n",
      "test loss for m=3:  tensor(0.9790, dtype=torch.float64)\n",
      "test loss for m=4:  tensor(1.8162, dtype=torch.float64)\n",
      "test loss for m=5:  tensor(2.6397, dtype=torch.float64)\n",
      "test loss for m=6:  tensor(3.4999, dtype=torch.float64)\n"
     ]
    }
   ],
   "source": [
    "for ms in range(2,7):\n",
    "    inds = np.where(x == ms)\n",
    "    print(f'test loss for m={ms}: ', ((ygt[inds]-ypreds_test[inds])**2).mean())"
   ]
  },
  {
   "cell_type": "markdown",
   "id": "6f420b50",
   "metadata": {},
   "source": [
    "# creating the function for the template "
   ]
  },
  {
   "cell_type": "code",
   "execution_count": null,
   "id": "dd7c4a54",
   "metadata": {},
   "outputs": [],
   "source": [
    "!pip install tamu_csce_636_project1"
   ]
  },
  {
   "cell_type": "markdown",
   "id": "e60a557c",
   "metadata": {},
   "source": [
    "# Please use the following function for evaluating the model"
   ]
  },
  {
   "cell_type": "code",
   "execution_count": null,
   "id": "f5784891",
   "metadata": {},
   "outputs": [],
   "source": [
    "def ready_to_use_func(n,k,m,p_list, path = 'vaenf_best_perf_model.pth'): ## please save the model where ever you are using the function\n",
    "\n",
    "    #### loading the model \n",
    "    device = 'cuda' if torch.cuda.is_available() else 'cpu'\n",
    "    model = VAEWithFlow(input_dim=20, latent_dim=2, output_dim=1, num_flows=10, flow_type='planar').to(torch.float64).to(device)\n",
    "    model_check_point = torch.load(path)\n",
    "    model.load_state_dict(model_check_point)    \n",
    "\n",
    "    nmks = torch.tensor([[n,m,k] for item in p_list])\n",
    "\n",
    "    p_list_tensor = torch.tensor(p_list) ### following the instrunctions in the template\n",
    "    p_list_tensor = p_list_tensor.reshape(-1, p_list_tensor.shape[1] * p_list_tensor.shape[2])\n",
    "    modif_matrices = pre_process_data(p_list_tensor, nfeat=17)\n",
    "    \n",
    "    modif_features = torch.cat([modif_matrices, nmks], axis = 1)\n",
    "    modif_features = modif_features.to(device).to(torch.float64)\n",
    "\n",
    "    output = model(modif_features)\n",
    "    output = 2 ** output ### my model predicts the log2\n",
    "    return output.flatten().tolist()\n"
   ]
  },
  {
   "cell_type": "markdown",
   "id": "710d7cee",
   "metadata": {},
   "source": [
    "# NOTE: alternatively, if one wants to use (log2(m) - log2(mhat))**2, they can use the following piece of code (which is almost exactly the same as the previous code, with the differnce in loss function)\n",
    "## to showcase the model is being trained with the following loss, I let the model to be trained for 15 epochs "
   ]
  },
  {
   "cell_type": "code",
   "execution_count": null,
   "id": "c6696afc",
   "metadata": {},
   "outputs": [
    {
     "name": "stdout",
     "output_type": "stream",
     "text": [
      "Epoch 1, train Loss: 3.6295547679455917, valid loss: 1.8605748872070678, lr: [0.00099], time: 370.3649160861969\n",
      "Epoch 2, train Loss: 1.4721071794934657, valid loss: 1.4758994031668915, lr: [0.0009801], time: 380.45856165885925\n",
      "Epoch 3, train Loss: 1.449204452275194, valid loss: 1.448467466291079, lr: [0.000970299], time: 374.4647614955902\n",
      "Epoch 4, train Loss: 1.451385832578848, valid loss: 1.510777408948184, lr: [0.0009605960099999999], time: 378.2787449359894\n",
      "Epoch 5, train Loss: 1.4445426700451889, valid loss: 1.4467272164737275, lr: [0.0009509900498999999], time: 368.8771550655365\n",
      "Epoch 6, train Loss: 1.4465726855766965, valid loss: 1.482673881128157, lr: [0.0009414801494009999], time: 369.1657557487488\n",
      "Epoch 7, train Loss: 1.4443926183625997, valid loss: 1.4486190155389782, lr: [0.0009320653479069899], time: 370.8797733783722\n",
      "Epoch 8, train Loss: 1.442852929681374, valid loss: 1.4447470530492943, lr: [0.00092274469442792], time: 370.4596297740936\n",
      "Epoch 9, train Loss: 1.4518386294973136, valid loss: 1.4433280392348837, lr: [0.0009135172474836408], time: 372.2806279659271\n",
      "Epoch 10, train Loss: 1.4455938295706567, valid loss: 1.4575143818625, lr: [0.0009043820750088043], time: 371.3024044036865\n",
      "Epoch 11, train Loss: 1.4393236797669493, valid loss: 1.4511574109911285, lr: [0.0008953382542587163], time: 368.5160782337189\n",
      "Epoch 12, train Loss: 1.4471118432246357, valid loss: 1.4421433210370187, lr: [0.0008863848717161291], time: 370.1458930969238\n",
      "Epoch 13, train Loss: 1.442525206136226, valid loss: 1.441128341543157, lr: [0.0008775210229989678], time: 369.65706038475037\n",
      "Epoch 14, train Loss: 1.4428857357361524, valid loss: 1.4417022156916217, lr: [0.0008687458127689781], time: 369.6635959148407\n",
      "Epoch 15, train Loss: 1.4425232511720065, valid loss: 1.4423958693964891, lr: [0.0008600583546412883], time: 367.04682540893555\n",
      "step 2091/7759, loss: 1.4597860773104978, mse_all: 1.4597860773104978\r"
     ]
    },
    {
     "ename": "KeyboardInterrupt",
     "evalue": "",
     "output_type": "error",
     "traceback": [
      "\u001b[1;31m---------------------------------------------------------------------------\u001b[0m\n",
      "\n",
      "\u001b[1;31mKeyboardInterrupt\u001b[0m                         Traceback (most recent call last)\n",
      "\n",
      "Cell \u001b[1;32mIn[12], line 13\u001b[0m\n",
      "\n",
      "\u001b[0;32m     10\u001b[0m t_start \u001b[38;5;241m=\u001b[39m time\u001b[38;5;241m.\u001b[39mtime()\n",
      "\n",
      "\u001b[0;32m     12\u001b[0m step \u001b[38;5;241m=\u001b[39m \u001b[38;5;241m0\u001b[39m\n",
      "\n",
      "\u001b[1;32m---> 13\u001b[0m \u001b[43m\u001b[49m\u001b[38;5;28;43;01mfor\u001b[39;49;00m\u001b[43m \u001b[49m\u001b[43mx\u001b[49m\u001b[43m,\u001b[49m\u001b[43my\u001b[49m\u001b[43m \u001b[49m\u001b[38;5;129;43;01min\u001b[39;49;00m\u001b[43m \u001b[49m\u001b[43mtrain_loader\u001b[49m\u001b[43m:\u001b[49m\n",
      "\n",
      "\u001b[0;32m     14\u001b[0m \u001b[43m    \u001b[49m\u001b[43moptimizer\u001b[49m\u001b[38;5;241;43m.\u001b[39;49m\u001b[43mzero_grad\u001b[49m\u001b[43m(\u001b[49m\u001b[43m)\u001b[49m\n",
      "\n",
      "\u001b[0;32m     15\u001b[0m \u001b[43m    \u001b[49m\u001b[43mx\u001b[49m\u001b[43m,\u001b[49m\u001b[43my\u001b[49m\u001b[43m \u001b[49m\u001b[38;5;241;43m=\u001b[39;49m\u001b[43m \u001b[49m\u001b[43mx\u001b[49m\u001b[38;5;241;43m.\u001b[39;49m\u001b[43mto\u001b[49m\u001b[43m(\u001b[49m\u001b[43mdevice\u001b[49m\u001b[43m)\u001b[49m\u001b[43m,\u001b[49m\u001b[43m \u001b[49m\u001b[43my\u001b[49m\u001b[38;5;241;43m.\u001b[39;49m\u001b[43mto\u001b[49m\u001b[43m(\u001b[49m\u001b[43mdevice\u001b[49m\u001b[43m)\u001b[49m\u001b[43m \u001b[49m\u001b[38;5;66;43;03m# ---> log2 y (in train loader we have log2 y)\u001b[39;49;00m\n",
      "\n",
      "\n",
      "\n",
      "File \u001b[1;32md:\\TAMU\\courses\\spring 2025\\deep learning\\dl_env\\Lib\\site-packages\\torch\\utils\\data\\dataloader.py:708\u001b[0m, in \u001b[0;36m_BaseDataLoaderIter.__next__\u001b[1;34m(self)\u001b[0m\n",
      "\n",
      "\u001b[0;32m    705\u001b[0m \u001b[38;5;28;01mif\u001b[39;00m \u001b[38;5;28mself\u001b[39m\u001b[38;5;241m.\u001b[39m_sampler_iter \u001b[38;5;129;01mis\u001b[39;00m \u001b[38;5;28;01mNone\u001b[39;00m:\n",
      "\n",
      "\u001b[0;32m    706\u001b[0m     \u001b[38;5;66;03m# TODO(https://github.com/pytorch/pytorch/issues/76750)\u001b[39;00m\n",
      "\n",
      "\u001b[0;32m    707\u001b[0m     \u001b[38;5;28mself\u001b[39m\u001b[38;5;241m.\u001b[39m_reset()  \u001b[38;5;66;03m# type: ignore[call-arg]\u001b[39;00m\n",
      "\n",
      "\u001b[1;32m--> 708\u001b[0m data \u001b[38;5;241m=\u001b[39m \u001b[38;5;28;43mself\u001b[39;49m\u001b[38;5;241;43m.\u001b[39;49m\u001b[43m_next_data\u001b[49m\u001b[43m(\u001b[49m\u001b[43m)\u001b[49m\n",
      "\n",
      "\u001b[0;32m    709\u001b[0m \u001b[38;5;28mself\u001b[39m\u001b[38;5;241m.\u001b[39m_num_yielded \u001b[38;5;241m+\u001b[39m\u001b[38;5;241m=\u001b[39m \u001b[38;5;241m1\u001b[39m\n",
      "\n",
      "\u001b[0;32m    710\u001b[0m \u001b[38;5;28;01mif\u001b[39;00m (\n",
      "\n",
      "\u001b[0;32m    711\u001b[0m     \u001b[38;5;28mself\u001b[39m\u001b[38;5;241m.\u001b[39m_dataset_kind \u001b[38;5;241m==\u001b[39m _DatasetKind\u001b[38;5;241m.\u001b[39mIterable\n",
      "\n",
      "\u001b[0;32m    712\u001b[0m     \u001b[38;5;129;01mand\u001b[39;00m \u001b[38;5;28mself\u001b[39m\u001b[38;5;241m.\u001b[39m_IterableDataset_len_called \u001b[38;5;129;01mis\u001b[39;00m \u001b[38;5;129;01mnot\u001b[39;00m \u001b[38;5;28;01mNone\u001b[39;00m\n",
      "\n",
      "\u001b[0;32m    713\u001b[0m     \u001b[38;5;129;01mand\u001b[39;00m \u001b[38;5;28mself\u001b[39m\u001b[38;5;241m.\u001b[39m_num_yielded \u001b[38;5;241m>\u001b[39m \u001b[38;5;28mself\u001b[39m\u001b[38;5;241m.\u001b[39m_IterableDataset_len_called\n",
      "\n",
      "\u001b[0;32m    714\u001b[0m ):\n",
      "\n",
      "\n",
      "\n",
      "File \u001b[1;32md:\\TAMU\\courses\\spring 2025\\deep learning\\dl_env\\Lib\\site-packages\\torch\\utils\\data\\dataloader.py:764\u001b[0m, in \u001b[0;36m_SingleProcessDataLoaderIter._next_data\u001b[1;34m(self)\u001b[0m\n",
      "\n",
      "\u001b[0;32m    762\u001b[0m \u001b[38;5;28;01mdef\u001b[39;00m\u001b[38;5;250m \u001b[39m\u001b[38;5;21m_next_data\u001b[39m(\u001b[38;5;28mself\u001b[39m):\n",
      "\n",
      "\u001b[0;32m    763\u001b[0m     index \u001b[38;5;241m=\u001b[39m \u001b[38;5;28mself\u001b[39m\u001b[38;5;241m.\u001b[39m_next_index()  \u001b[38;5;66;03m# may raise StopIteration\u001b[39;00m\n",
      "\n",
      "\u001b[1;32m--> 764\u001b[0m     data \u001b[38;5;241m=\u001b[39m \u001b[38;5;28;43mself\u001b[39;49m\u001b[38;5;241;43m.\u001b[39;49m\u001b[43m_dataset_fetcher\u001b[49m\u001b[38;5;241;43m.\u001b[39;49m\u001b[43mfetch\u001b[49m\u001b[43m(\u001b[49m\u001b[43mindex\u001b[49m\u001b[43m)\u001b[49m  \u001b[38;5;66;03m# may raise StopIteration\u001b[39;00m\n",
      "\n",
      "\u001b[0;32m    765\u001b[0m     \u001b[38;5;28;01mif\u001b[39;00m \u001b[38;5;28mself\u001b[39m\u001b[38;5;241m.\u001b[39m_pin_memory:\n",
      "\n",
      "\u001b[0;32m    766\u001b[0m         data \u001b[38;5;241m=\u001b[39m _utils\u001b[38;5;241m.\u001b[39mpin_memory\u001b[38;5;241m.\u001b[39mpin_memory(data, \u001b[38;5;28mself\u001b[39m\u001b[38;5;241m.\u001b[39m_pin_memory_device)\n",
      "\n",
      "\n",
      "\n",
      "File \u001b[1;32md:\\TAMU\\courses\\spring 2025\\deep learning\\dl_env\\Lib\\site-packages\\torch\\utils\\data\\_utils\\fetch.py:52\u001b[0m, in \u001b[0;36m_MapDatasetFetcher.fetch\u001b[1;34m(self, possibly_batched_index)\u001b[0m\n",
      "\n",
      "\u001b[0;32m     50\u001b[0m         data \u001b[38;5;241m=\u001b[39m \u001b[38;5;28mself\u001b[39m\u001b[38;5;241m.\u001b[39mdataset\u001b[38;5;241m.\u001b[39m__getitems__(possibly_batched_index)\n",
      "\n",
      "\u001b[0;32m     51\u001b[0m     \u001b[38;5;28;01melse\u001b[39;00m:\n",
      "\n",
      "\u001b[1;32m---> 52\u001b[0m         data \u001b[38;5;241m=\u001b[39m [\u001b[38;5;28;43mself\u001b[39;49m\u001b[38;5;241;43m.\u001b[39;49m\u001b[43mdataset\u001b[49m\u001b[43m[\u001b[49m\u001b[43midx\u001b[49m\u001b[43m]\u001b[49m \u001b[38;5;28;01mfor\u001b[39;00m idx \u001b[38;5;129;01min\u001b[39;00m possibly_batched_index]\n",
      "\n",
      "\u001b[0;32m     53\u001b[0m \u001b[38;5;28;01melse\u001b[39;00m:\n",
      "\n",
      "\u001b[0;32m     54\u001b[0m     data \u001b[38;5;241m=\u001b[39m \u001b[38;5;28mself\u001b[39m\u001b[38;5;241m.\u001b[39mdataset[possibly_batched_index]\n",
      "\n",
      "\n",
      "\n",
      "Cell \u001b[1;32mIn[2], line 9\u001b[0m, in \u001b[0;36mCustomDataset.__getitem__\u001b[1;34m(self, idx)\u001b[0m\n",
      "\n",
      "\u001b[0;32m      6\u001b[0m \u001b[38;5;28;01mdef\u001b[39;00m\u001b[38;5;250m \u001b[39m\u001b[38;5;21m__len__\u001b[39m(\u001b[38;5;28mself\u001b[39m):\n",
      "\n",
      "\u001b[0;32m      7\u001b[0m     \u001b[38;5;28;01mreturn\u001b[39;00m \u001b[38;5;28mlen\u001b[39m(\u001b[38;5;28mself\u001b[39m\u001b[38;5;241m.\u001b[39mdata)\n",
      "\n",
      "\u001b[1;32m----> 9\u001b[0m \u001b[38;5;28;01mdef\u001b[39;00m\u001b[38;5;250m \u001b[39m\u001b[38;5;21m__getitem__\u001b[39m(\u001b[38;5;28mself\u001b[39m, idx):\n",
      "\n",
      "\u001b[0;32m     10\u001b[0m     \u001b[38;5;28;01mreturn\u001b[39;00m \u001b[38;5;28mself\u001b[39m\u001b[38;5;241m.\u001b[39mdata[idx], \u001b[38;5;28mself\u001b[39m\u001b[38;5;241m.\u001b[39mtargets[idx]\n",
      "\n",
      "\n",
      "\n",
      "\u001b[1;31mKeyboardInterrupt\u001b[0m: "
     ]
    }
   ],
   "source": [
    "bperf = torch.inf\n",
    "p_var = torch.tensor(0.2)\n",
    "model.train()\n",
    "eps = 1e-5\n",
    "scale_kl = 1e-4\n",
    "tr_loss_track, val_loss_track = [],[]\n",
    "tr_loss_all, val_loss_all, tr_kl_all, mse_all= [],[],[],[]\n",
    "for epoch in range(num_epochs):\n",
    "    total_loss = 0\n",
    "    t_start = time.time()\n",
    "    \n",
    "    step = 0\n",
    "    for x,y in train_loader:\n",
    "        optimizer.zero_grad()\n",
    "        x,y = x.to(device), y.to(device) # ---> log2 y (in train loader we have log2 y)\n",
    "        y_hat, z_k, mu, log_var, log_det = model(x) # ---> log2 y hat (model is forced to predict log2 y)\n",
    "\n",
    "\n",
    "        \n",
    "        loss = (( (y+eps)-(y_hat.squeeze(-1)+eps) )) ** 2 \n",
    "        loss = loss.mean()\n",
    "        \n",
    "        ### this mse is just for checking the model's performance --> it was not used in updating the model\n",
    "        mse = F.mse_loss( y, y_hat.squeeze(-1))\n",
    "\n",
    "        ### scaling the loss for putting more weight on the accuracy of the model \n",
    "        new_loss = 1 * loss \n",
    "\n",
    "        ### kl divergence loss for Normalizing Flow part which is optimized by elbo (similar loss as VAE)\n",
    "        ### kl divergence is scaled which is a common practice, and helps the model to converge faster\n",
    "        kl_div = ((mu-0)**2 + p_var**2)/(2*torch.exp(log_var)) + log_var - math.log(p_var) - 0.5\n",
    "        elbo_loss = new_loss + scale_kl * kl_div.mean() #+ mse\n",
    "        elbo_loss.backward()\n",
    "                \n",
    "\n",
    "        optimizer.step()        \n",
    "        total_loss += loss.item()\n",
    "\n",
    "        ### keeping track of different losses\n",
    "        tr_kl_all.append(kl_div.mean().item())\n",
    "        tr_loss_all.append(loss.item())\n",
    "        mse_all.append(mse.item())\n",
    "        \n",
    "        step += 1\n",
    "        print(f'step {step}/{len(train_loader)}, loss: {loss.item()}, mse_all: {mse_all[-1]}', end = '\\r')\n",
    "\n",
    "    tr_loss_track.append(total_loss/len(train_loader))\n",
    "    # print(f'Epoch: {epoch}, Train error: {tr_loss_track[-1]}')\n",
    "\n",
    "    ### Validating the model \n",
    "    model.eval()\n",
    "    total_val_loss = 0\n",
    "    with torch.no_grad():\n",
    "        for x_val, y_val in valid_loader:\n",
    "            x_val,y_val = x_val.to(device), y_val.to(device)\n",
    "            y_hat, z_k, mu, log_var, log_det = model(x_val) # ---> log y hat\n",
    "\n",
    "            y_val = torch.log2(y_val) # ---> since the model predicts the log2 y , and the validation y is not on log \n",
    "            \n",
    "            \n",
    "            val_loss = F.mse_loss( (((y_val + eps))), ((y_hat.squeeze(-1) + eps)))\n",
    "            total_val_loss += val_loss.item()\n",
    "            val_loss_all.append(val_loss.item())\n",
    "        \n",
    "    \n",
    "    total_val_loss /= len(valid_loader)\n",
    "    scheduler.step()\n",
    "\n",
    "    val_loss_track.append(total_val_loss)\n",
    "    \n",
    "    ### saving the loss track\n",
    "    # np.save('vaenf_kl_loss_all.npy', np.array(tr_kl_all))\n",
    "    # np.save('vaenf_val_loss_track.npy', np.array(val_loss_track))\n",
    "    # np.save('vaenf_tr_loss_track.npy', np.array(tr_loss_track))\n",
    "    \n",
    "    if total_val_loss < bperf: \n",
    "        bperf = total_val_loss\n",
    "        # torch.save(model.state_dict(), 'vaenf_best_perf_model.pth')\n",
    "    e_time = time.time()\n",
    "    if epoch%1 == 0:\n",
    "            print(f\"Epoch {epoch+1}, train Loss: {total_loss / len(train_loader)}, valid loss: {total_val_loss}, lr: {scheduler.get_last_lr()}, time: {e_time-t_start}\")\n",
    "\n",
    "\n"
   ]
  },
  {
   "cell_type": "markdown",
   "id": "66982dee",
   "metadata": {},
   "source": [
    "# LP Estimations and Deep Neural Networks\n",
    "\n",
    "## Overview\n",
    "This repository contains a Jupyter Notebook divided into two main parts:\n",
    "\n",
    "1. **Linear Programming (LP) Estimations** – Setup and estimation tasks using LP methods.  \n",
    "2. **Deep Neural Networks (DNNs)** – Implementation of a neural architecture with normalizing flows.\n",
    "\n",
    "---\n",
    "\n",
    "## Model Description\n",
    "\n",
    "### Encoder\n",
    "- Two **simple encoders**:\n",
    "  - Each maps modified matrices (17 features) and the tuple [n, m, k] into a **10-dimensional feature vector**.  \n",
    "  - After concatenation, the input to the first Conv1D layer is **20-dimensional**.  \n",
    "- Includes **3 Conv1D layers** with **max pooling**.\n",
    "\n",
    "### Normalizing Flow Module\n",
    "- Uses **planar flows**.  \n",
    "- The trained model employs **10 flow layers**.\n",
    "\n",
    "### Decoder\n",
    "- Mirrors the encoder structure.  \n",
    "- Does **not** use simple encoders.\n",
    "\n",
    "---\n",
    "\n",
    "## Implementation\n",
    "The complete model is implemented in the class:\n",
    "\n",
    "```python\n",
    "VAEWithFlow\n",
    "\n",
    "\n"
   ]
  },
  {
   "cell_type": "markdown",
   "id": "0fae1f33",
   "metadata": {},
   "source": [
    "# LP Estimations and Deep Neural Networks\n",
    "\n",
    "## Overview\n",
    "This repository contains a Jupyter Notebook divided into two main parts:\n",
    "\n",
    "1. **Linear Programming (LP) Estimations** – Setup and estimation tasks using LP methods.  \n",
    "2. **Deep Neural Networks (DNNs)** – Implementation of a neural architecture with normalizing flows.\n",
    "\n",
    "---\n",
    "\n",
    "## Model Description\n",
    "\n",
    "### Encoder\n",
    "- Two **simple encoders**:\n",
    "  - Each maps modified matrices (17 features) and the tuple [n, m, k] into a **10-dimensional feature vector**.  \n",
    "  - After concatenation, the input to the first Conv1D layer is **20-dimensional**.  \n",
    "- Includes **3 Conv1D layers** with **max pooling**.\n",
    "\n",
    "### Normalizing Flow Module\n",
    "- Uses **planar flows**.  \n",
    "- The trained model employs **10 flow layers**.\n",
    "\n",
    "### Decoder\n",
    "- Mirrors the encoder structure.  \n",
    "- Does **not** use simple encoders.\n",
    "\n",
    "---\n",
    "\n",
    "## Implementation\n",
    "The complete model is implemented in the class:\n",
    "\n",
    "<!-- python -->\n",
    "VAEWithFlow\n",
    "\n",
    "\n",
    "This integrates:\n",
    "- Encoder  \n",
    "- Normalizing Flow module  \n",
    "- Decoder  \n",
    "\n",
    "---\n",
    "\n",
    "## Output\n",
    "The model predicts values in the form:\n",
    "\n",
    "\\[\n",
    "\\log_2(\\cdot)\n",
    "\\]\n",
    "\n",
    "---\n",
    "\n",
    "## Notes\n",
    "- Part 1: LP estimations for baseline tasks.  \n",
    "- Part 2: Deep Neural Network training using the `VAEWithFlow` model.  \n",
    "- The architecture is modular and can be extended for different input dimensions or flow configurations.  \n",
    "- Saved models can be found in the `notebook` and `model` directories.  \n",
    "- Loss tracks can be found in the `loss tracks` directory.  "
   ]
  }
 ],
 "metadata": {
  "kernelspec": {
   "display_name": "base",
   "language": "python",
   "name": "python3"
  },
  "language_info": {
   "codemirror_mode": {
    "name": "ipython",
    "version": 3
   },
   "file_extension": ".py",
   "mimetype": "text/x-python",
   "name": "python",
   "nbconvert_exporter": "python",
   "pygments_lexer": "ipython3",
   "version": "3.11.7"
  }
 },
 "nbformat": 4,
 "nbformat_minor": 5
}
